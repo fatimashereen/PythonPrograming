{
 "cells": [
  {
   "cell_type": "code",
   "execution_count": 1,
   "metadata": {},
   "outputs": [
    {
     "name": "stdout",
     "output_type": "stream",
     "text": [
      "Enter first value5\n",
      "Enter second value4\n",
      "Enter operator+\n",
      "54 answer\n"
     ]
    }
   ],
   "source": [
    "val1 = input('Enter first value')\n",
    "val2 = input('Enter second value')\n",
    "operator = input('Enter operator')\n",
    "\n",
    "if operator == '+':\n",
    "    val = val1 + val2\n",
    "    print(val, 'answer')\n",
    "elif operator == '-' :\n",
    "    val = val1 - val2\n",
    "    print(val, 'answer')\n",
    "elif operator == '*':\n",
    "    val = val1 * val2\n",
    "    print(val, 'answer')\n",
    "elif operator == '/' :\n",
    "    val = val1 / val2\n",
    "    print(val, 'answer')\n",
    "else :\n",
    "    print('Enter correct operator')"
   ]
  },
  {
   "cell_type": "code",
   "execution_count": 4,
   "metadata": {},
   "outputs": [
    {
     "name": "stdout",
     "output_type": "stream",
     "text": [
      "Element exist\n"
     ]
    }
   ],
   "source": [
    "test_list = [1,3,5,4,6]\n",
    "for i in test_list:\n",
    "    if (i == 4):\n",
    "        print(\"Element exist\")"
   ]
  },
  {
   "cell_type": "code",
   "execution_count": 5,
   "metadata": {},
   "outputs": [
    {
     "name": "stdout",
     "output_type": "stream",
     "text": [
      "{0: 10, 1: 20}\n",
      "{0: 10, 1: 20, 2: 30}\n"
     ]
    }
   ],
   "source": [
    "d = {0:10,1:20}\n",
    "print(d)\n",
    "d.update({2:30})\n",
    "print(d)"
   ]
  },
  {
   "cell_type": "code",
   "execution_count": 8,
   "metadata": {},
   "outputs": [
    {
     "name": "stdout",
     "output_type": "stream",
     "text": [
      "250\n"
     ]
    }
   ],
   "source": [
    "my_dict = {'data1':100,'data2' :-50,'data3' :200}\n",
    "print(sum(my_dict.values()))"
   ]
  },
  {
   "cell_type": "code",
   "execution_count": 9,
   "metadata": {},
   "outputs": [
    {
     "name": "stdout",
     "output_type": "stream",
     "text": [
      "[6, 7, 11, 15, 15, 20, 20, 20, 30, 30, 40, 40, 50, 50]\n",
      "[15, 20, 30, 40, 50]\n"
     ]
    }
   ],
   "source": [
    "my_list = [20,30,20,30,40,50,15,11,20,40,50,15,6,7]\n",
    " \n",
    "my_list.sort()\n",
    "print(my_list)\n",
    " \n",
    "new_list = sorted(set(my_list))\n",
    "dup_list =[]\n",
    " \n",
    " \n",
    "for i in range(len(new_list)):\n",
    "        if (my_list.count(new_list[i]) > 1 ):\n",
    "            dup_list.append(new_list[i])\n",
    "        \n",
    "print(dup_list) "
   ]
  },
  {
   "cell_type": "code",
   "execution_count": 31,
   "metadata": {},
   "outputs": [
    {
     "name": "stdout",
     "output_type": "stream",
     "text": [
      "present,value = 200\n",
      "not present\n"
     ]
    }
   ],
   "source": [
    "def checkKey(dict, key):\n",
    "    \n",
    "    if key in dict.keys():\n",
    "        print(\"present,\" , end = \"\")\n",
    "        print(\"value =\" , dict[key])\n",
    "    else:\n",
    "            print(\"not present\")\n",
    "            \n",
    "dict = {'a': 100, 'b': 200, 'c': 300}  \n",
    "    \n",
    "key = 'b'\n",
    "checkKey(dict,key)    \n",
    "  \n",
    "    \n",
    "key = 'w'\n",
    "checkKey(dict, key)\n",
    "   "
   ]
  },
  {
   "cell_type": "code",
   "execution_count": null,
   "metadata": {},
   "outputs": [],
   "source": []
  },
  {
   "cell_type": "code",
   "execution_count": null,
   "metadata": {},
   "outputs": [],
   "source": []
  }
 ],
 "metadata": {
  "kernelspec": {
   "display_name": "Python 3",
   "language": "python",
   "name": "python3"
  },
  "language_info": {
   "codemirror_mode": {
    "name": "ipython",
    "version": 3
   },
   "file_extension": ".py",
   "mimetype": "text/x-python",
   "name": "python",
   "nbconvert_exporter": "python",
   "pygments_lexer": "ipython3",
   "version": "3.7.4"
  }
 },
 "nbformat": 4,
 "nbformat_minor": 2
}
