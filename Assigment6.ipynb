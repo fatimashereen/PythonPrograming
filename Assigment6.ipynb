{
 "cells": [
  {
   "cell_type": "code",
   "execution_count": null,
   "metadata": {},
   "outputs": [],
   "source": [
    "object-oriented programming(OOP) refers to a type of computer programming(software design) in which programmers\n",
    "define the data type of a data structure.it is programming style which is associated with the concept of class, objects and \n",
    "various other concept like inheritence,abstraction,encapsulation ,polymorphism etc\n",
    "Class:-it is design or blueprint of any entity.which define the core properties and functions.\n",
    "Objects:-it is instance of class it could be anything like person,place or thing which have behaviour and structure\n",
    "Ex:-student is a class and its rollno.adress etc are stucture and get data ,get roll no is its behaviour\n",
    "Abstraction:-refers to act of represting essential features without including background details or explanation ex:car\n",
    "when we driving we know only initial features we dont know the background detail\n",
    "Encapsulation:-The wrapping of data and operations into a singal unit is known as Encapsulation\n",
    "Ex:-banking:-it include our account no balance,address,personal data and bank functions are deposit amount etc both data and functions\n",
    "are important for eachother\n",
    "Polymorphism:-is the ability of message tobe is more than one form \n",
    "Ex:-Shape it could be circle square traingle etc\n",
    "Inheritence:-is capability of one class of things to inherit the capability or properties of another class   \n"
   ]
  },
  {
   "cell_type": "code",
   "execution_count": null,
   "metadata": {},
   "outputs": [],
   "source": [
    "  Benefits of OOP:-\n",
    "        Re-usability\n",
    "        Data Redundancy\n",
    "        Code Maintaince\n",
    "        Security\n",
    "        Design Benefit\n",
    "        Better Productivity\n",
    "        Easy Troubleshooting\n",
    "        Polymorphisim Flexibility\n",
    "        Problem Solving"
   ]
  },
  {
   "cell_type": "code",
   "execution_count": null,
   "metadata": {},
   "outputs": [],
   "source": [
    " \n",
    "A function is a piece of code that is called by name. It can be passed data to operate on (i.e. the parameters) and can optionally return data (the return value). All data that is passed to a function is explicitly passed.\n",
    "\n",
    "A method is a piece of code that is called by a name that is associated with an object. In most respects it is identical to a function except for two key differences:\n",
    "\n",
    "A method is implicitly passed the object on which it was called.\n",
    "A method is able to operate on data that is contained within the class (remembering that an object is an instance of a class - the class is the definition, the object is an instance of that data)."
   ]
  },
  {
   "cell_type": "code",
   "execution_count": null,
   "metadata": {},
   "outputs": [],
   "source": [
    " Class:-it is design or blueprint of any entity.which define the core properties and functions.\n",
    "Objects:-it is instance of class it could be anything like person,place or thing which have behaviour and structure\n",
    "Ex:-student is a class and its rollno.adress etc are stucture and get data ,get roll no is its behaviour\n",
    "Attribute:-Attributes are the individual things that differentiate one object from another and determine the appearance, state, or other qualities of that object\n",
    "Behaviour:-A class's behavior determines how an instance of that class operates;Behavior is the only way objects can do anything to themselves or have anything done to them here are some behaviors that the Motorcycle class might have:\n",
    "\n",
    "Start the engine\n",
    "Stop the engine\n",
    "Speed up\n",
    "Change gear\n",
    "Stall    "
   ]
  },
  {
   "cell_type": "code",
   "execution_count": 23,
   "metadata": {},
   "outputs": [
    {
     "name": "stdout",
     "output_type": "stream",
     "text": [
      "<class '__main__.Car'>\n",
      "2008\n"
     ]
    }
   ],
   "source": [
    "\n",
    "class Car:\n",
    "\n",
    "    name = \"c200\"\n",
    "    make = \"mercedez\"\n",
    "    model = 2008\n",
    "\n",
    "    # create class methods\n",
    "    def start(self):\n",
    "        print (\"Engine started\")\n",
    "\n",
    "    def stop(self):\n",
    "        print (\"Engine switched off\")\n",
    "        \n",
    "  # Creates car_a object of Car class\n",
    "car_a = Car()\n",
    "\n",
    "# Creates car_b object of car class\n",
    "car_b = Car()\n",
    "print(type(car_b))\n",
    "car_b.start\n",
    "print(car_b.model)        \n",
    "      "
   ]
  },
  {
   "cell_type": "code",
   "execution_count": null,
   "metadata": {},
   "outputs": [],
   "source": []
  }
 ],
 "metadata": {
  "kernelspec": {
   "display_name": "Python 3",
   "language": "python",
   "name": "python3"
  },
  "language_info": {
   "codemirror_mode": {
    "name": "ipython",
    "version": 3
   },
   "file_extension": ".py",
   "mimetype": "text/x-python",
   "name": "python",
   "nbconvert_exporter": "python",
   "pygments_lexer": "ipython3",
   "version": "3.7.4"
  }
 },
 "nbformat": 4,
 "nbformat_minor": 2
}
