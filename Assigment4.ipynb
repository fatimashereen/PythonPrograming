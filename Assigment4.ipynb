{
 "cells": [
  {
   "cell_type": "code",
   "execution_count": 3,
   "metadata": {},
   "outputs": [
    {
     "name": "stdout",
     "output_type": "stream",
     "text": [
      "minsa\n",
      "fatima\n",
      "20\n",
      "karachi\n",
      "{'first_name': 'minsa', 'last_name': 'fatima', 'age': 20, 'city': 'karachi', 'qualification': 'Software Engineer'}\n",
      "{'first_name': 'minsa', 'last_name': 'fatima', 'age': 20, 'city': 'karachi', 'qualification': 'Software Engineer'}\n"
     ]
    }
   ],
   "source": [
    "person = {\n",
    "    'first_name': 'minsa',\n",
    "    'last_name': 'fatima',\n",
    "    'age': 20,\n",
    "    'city': 'karachi',\n",
    "    \n",
    "}\n",
    "person[\"qualification\"] = 'intermediate'\n",
    "person.update(qualification = 'Software Engineer')\n",
    "\n",
    "\n",
    "print(person['first_name'])\n",
    "print(person['last_name'])\n",
    "print(person['age'])\n",
    "print(person['city'])\n",
    "print(person)\n",
    "print(person)\n",
    "\n",
    "\n",
    "\n",
    "\n"
   ]
  },
  {
   "cell_type": "code",
   "execution_count": 4,
   "metadata": {},
   "outputs": [
    {
     "name": "stdout",
     "output_type": "stream",
     "text": [
      "{'first_name': 'minsa', 'last_name': 'fatima', 'age': 20, 'city': 'karachi'}\n"
     ]
    }
   ],
   "source": [
    "del person['qualification'] \n",
    "print(person)"
   ]
  },
  {
   "cell_type": "code",
   "execution_count": 5,
   "metadata": {},
   "outputs": [
    {
     "name": "stdout",
     "output_type": "stream",
     "text": [
      "\n",
      "Sharjahis inUnited Arab Emirates.\n",
      "it has population of about800000.\n",
      "The Uae First School, Airport,Municipality And Library Were All Build In Sharjahfact\n",
      "\n",
      "Islamabadis inPakistan.\n",
      "it has population of about1.015.\n",
      "The World S Fourth Largest Faisal Mosque Is Located In Islamabadfact\n",
      "\n",
      "Karachiis inPakistan.\n",
      "it has population of about15741000.\n",
      "TheKarachi Is City Of Light And Most Populated City In The Worldfact\n"
     ]
    }
   ],
   "source": [
    "cities = {\n",
    "    'sharjah': {\n",
    "        'country': 'United Arab Emirates',\n",
    "        'population': 800000,\n",
    "        'fact': ' UAE first school, airport,municipality and library were all build in sharjah',\n",
    "    },\n",
    "    'Islamabad': {\n",
    "        'country': 'pakistan',\n",
    "        'population':1.015,\n",
    "        'fact':' world s fourth largest faisal mosque is located in islamabad',\n",
    "    },\n",
    "    'karachi':{\n",
    "        'country':'pakistan',\n",
    "        'population':15741000,\n",
    "        'fact':'karachi is city of light and most populated city in the world',\n",
    "    }\n",
    "}\n",
    "\n",
    "for city,city_info in cities.items():\n",
    "    country = city_info['country'].title()\n",
    "    population = city_info['population']\n",
    "    fact = city_info['fact'].title()\n",
    "    \n",
    "    \n",
    "    print(\"\\n\" + city.title() + \"is in\" + country+ \".\")\n",
    "    print(\"it has population of about\" + str(population) + \".\")\n",
    "    print(\"The\" + fact + \"fact\")\n",
    "    "
   ]
  },
  {
   "cell_type": "code",
   "execution_count": 1,
   "metadata": {},
   "outputs": [
    {
     "name": "stdout",
     "output_type": "stream",
     "text": [
      "How old are you?\n",
      "Enter 'quit' when you are finished. 2\n",
      "  You get in free!\n",
      "How old are you?\n",
      "Enter 'quit' when you are finished. 3\n",
      "  Your ticket is $10.\n",
      "How old are you?\n",
      "Enter 'quit' when you are finished. 12\n",
      "  Your ticket is $10.\n",
      "How old are you?\n",
      "Enter 'quit' when you are finished. 18\n",
      "  Your ticket is $15.\n",
      "How old are you?\n",
      "Enter 'quit' when you are finished. quit\n"
     ]
    }
   ],
   "source": [
    "prompt = \"How old are you?\"\n",
    "prompt += \"\\nEnter 'quit' when you are finished. \"\n",
    "\n",
    "while True:\n",
    "    age = input(prompt)\n",
    "    if age == 'quit':\n",
    "        break\n",
    "        \n",
    "    age = int(age)\n",
    "\n",
    "    if age < 3:\n",
    "        print(\"  You get in free!\")\n",
    "    elif age < 13:\n",
    "        print(\"  Your ticket is $10.\")\n",
    "    else:\n",
    "        print(\"  Your ticket is $15.\")\n",
    "        \n",
    "        "
   ]
  },
  {
   "cell_type": "code",
   "execution_count": 2,
   "metadata": {},
   "outputs": [
    {
     "name": "stdout",
     "output_type": "stream",
     "text": [
      "The smarter way to learn python is one of my favorite books.\n"
     ]
    }
   ],
   "source": [
    "def favorite_book(title):\n",
    "    \"\"\"Display a message about someone's favorite book.\"\"\"\n",
    "    print(title + \" is one of my favorite books.\")\n",
    "\n",
    "favorite_book('The smarter way to learn python')"
   ]
  },
  {
   "cell_type": "code",
   "execution_count": 2,
   "metadata": {},
   "outputs": [
    {
     "name": "stdout",
     "output_type": "stream",
     "text": [
      "Guess a number between 1 and 30 until you get it right : 25\n",
      "Guess a number between 1 and 30 until you get it right : 20\n",
      "Guess a number between 1 and 30 until you get it right : 15\n",
      "Guess a number between 1 and 30 until you get it right : 23\n",
      "Guess a number between 1 and 30 until you get it right : 8\n",
      "Guess a number between 1 and 30 until you get it right : 7\n",
      "Guess a number between 1 and 30 until you get it right : 29\n",
      "Guess a number between 1 and 30 until you get it right : 10\n",
      "Guess a number between 1 and 30 until you get it right : 28\n",
      "Guess a number between 1 and 30 until you get it right : 18\n",
      "Guess a number between 1 and 30 until you get it right : 12\n",
      "Guess a number between 1 and 30 until you get it right : 6\n",
      "Guess a number between 1 and 30 until you get it right : 5\n",
      "Guess a number between 1 and 30 until you get it right : 4\n",
      "Guess a number between 1 and 30 until you get it right : 30\n",
      "Well guessed!\n"
     ]
    }
   ],
   "source": [
    "import random\n",
    "target_num, guess_num = random.randint(1, 30), 0\n",
    "while target_num != guess_num:\n",
    "    guess_num = int(input('Guess a number between 1 and 30 until you get it right : '))\n",
    "print('Well guessed!')\n"
   ]
  },
  {
   "cell_type": "code",
   "execution_count": null,
   "metadata": {},
   "outputs": [],
   "source": []
  }
 ],
 "metadata": {
  "kernelspec": {
   "display_name": "Python 3",
   "language": "python",
   "name": "python3"
  },
  "language_info": {
   "codemirror_mode": {
    "name": "ipython",
    "version": 3
   },
   "file_extension": ".py",
   "mimetype": "text/x-python",
   "name": "python",
   "nbconvert_exporter": "python",
   "pygments_lexer": "ipython3",
   "version": "3.7.4"
  }
 },
 "nbformat": 4,
 "nbformat_minor": 2
}
