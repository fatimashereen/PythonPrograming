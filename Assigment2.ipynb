{
 "cells": [
  {
   "cell_type": "code",
   "execution_count": 1,
   "metadata": {},
   "outputs": [
    {
     "name": "stdout",
     "output_type": "stream",
     "text": [
      "Enter marks of first subject:85\n",
      "Enter marks of second subject:95\n",
      "Enter marks of third subject:99\n",
      "Enter marks of fourth subject:93\n",
      "Enter marks of fifth subject:100\n",
      "Grade A\n"
     ]
    }
   ],
   "source": [
    "sub1=int(input(\"Enter marks of first subject:\"))\n",
    "sub2=int(input(\"Enter marks of second subject:\"))\n",
    "sub3=int(input(\"Enter marks of third subject:\"))\n",
    "sub4=int(input(\"Enter marks of fourth subject:\"))\n",
    "sub5=int(input(\"Enter marks of fifth subject:\"))\n",
    "avg=(sub1+sub2+sub3+sub4+sub5)/5\n",
    "if(avg>=90):\n",
    "    print(\"Grade A\")\n",
    "elif(avg>=80&avg<90):\n",
    "    print(\"Grade B\")\n",
    "elif(avg>=70&avg<80):\n",
    "    print(\"Grade C\")\n",
    "elif(avg>=60&avg<70):\n",
    "    print(\"Grade D\")\n",
    "else:\n",
    "    print(\"Grade F\")\n",
    "    \n",
    "    \n",
    "\n",
    "        "
   ]
  },
  {
   "cell_type": "code",
   "execution_count": 2,
   "metadata": {},
   "outputs": [
    {
     "name": "stdout",
     "output_type": "stream",
     "text": [
      "Enter a number:5\n",
      "This is an odd number.\n"
     ]
    }
   ],
   "source": [
    "num = int(input(\"Enter a number:\"))\n",
    "mod = num % 2\n",
    "if mod > 0:\n",
    "    print(\"This is an odd number.\")\n",
    "else:\n",
    "    print(\"This is an even number.\")"
   ]
  },
  {
   "cell_type": "code",
   "execution_count": 3,
   "metadata": {},
   "outputs": [
    {
     "name": "stdout",
     "output_type": "stream",
     "text": [
      "The length of list is:  3\n"
     ]
    }
   ],
   "source": [
    "n = len ([10,20,30])\n",
    "print(\"The length of list is: \", n)"
   ]
  },
  {
   "cell_type": "code",
   "execution_count": 4,
   "metadata": {},
   "outputs": [
    {
     "name": "stdout",
     "output_type": "stream",
     "text": [
      "initial list [1, 2, 3, 4, 'a', 'b', 'x', 5, 'z']\n",
      "reslutant sum 15\n"
     ]
    }
   ],
   "source": [
    "ini_list = [1,2,3,4,'a','b','x',5,'z']\n",
    "print(\"initial list\",str(ini_list))\n",
    "res = sum(filter(lambda i :isinstance(i, int),ini_list))\n",
    "print(\"reslutant sum\" ,res)"
   ]
  },
  {
   "cell_type": "code",
   "execution_count": 6,
   "metadata": {},
   "outputs": [
    {
     "name": "stdout",
     "output_type": "stream",
     "text": [
      "largest number is: 49\n"
     ]
    }
   ],
   "source": [
    "list1 = [10,20,4,45,49]\n",
    "print(\"largest number is:\", max(list1))"
   ]
  },
  {
   "cell_type": "code",
   "execution_count": 47,
   "metadata": {},
   "outputs": [
    {
     "name": "stdout",
     "output_type": "stream",
     "text": [
      "[1]\n",
      "[1, 1]\n",
      "[1, 1, 2]\n",
      "[1, 1, 2, 3]\n"
     ]
    }
   ],
   "source": [
    "a = [1,1,2,3,5,8,13,21,34,55,89]\n",
    "new_list = []\n",
    "for item in a :\n",
    "    if item < 5:\n",
    "        new_list.append(item)\n",
    "        print(new_list)\n",
    "\n",
    "        "
   ]
  },
  {
   "cell_type": "code",
   "execution_count": null,
   "metadata": {},
   "outputs": [],
   "source": []
  },
  {
   "cell_type": "code",
   "execution_count": null,
   "metadata": {},
   "outputs": [],
   "source": []
  },
  {
   "cell_type": "code",
   "execution_count": null,
   "metadata": {},
   "outputs": [],
   "source": []
  },
  {
   "cell_type": "code",
   "execution_count": null,
   "metadata": {},
   "outputs": [],
   "source": []
  },
  {
   "cell_type": "code",
   "execution_count": null,
   "metadata": {},
   "outputs": [],
   "source": []
  }
 ],
 "metadata": {
  "kernelspec": {
   "display_name": "Python 3",
   "language": "python",
   "name": "python3"
  },
  "language_info": {
   "codemirror_mode": {
    "name": "ipython",
    "version": 3
   },
   "file_extension": ".py",
   "mimetype": "text/x-python",
   "name": "python",
   "nbconvert_exporter": "python",
   "pygments_lexer": "ipython3",
   "version": "3.7.4"
  }
 },
 "nbformat": 4,
 "nbformat_minor": 2
}
