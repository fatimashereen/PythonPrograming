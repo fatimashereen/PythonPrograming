{
 "cells": [
  {
   "cell_type": "code",
   "execution_count": 13,
   "metadata": {},
   "outputs": [
    {
     "name": "stdout",
     "output_type": "stream",
     "text": [
      "Input a number to compute the fact factorial : 4\n",
      "24\n"
     ]
    }
   ],
   "source": [
    "def factorial(n):\n",
    "    if n == 0:\n",
    "        return 1\n",
    "    else:\n",
    "        return n * factorial(n-1)\n",
    "n=int(input(\"Input a number to compute the fact factorial : \"))\n",
    "print(factorial(n))\n",
    "                          "
   ]
  },
  {
   "cell_type": "code",
   "execution_count": 17,
   "metadata": {},
   "outputs": [
    {
     "name": "stdout",
     "output_type": "stream",
     "text": [
      "Original String : The Smarter Way To Learn Python\n",
      "No.of Upper case characters: 1\n",
      "No.of Lower case characters: 0\n",
      "Original String : The Smarter Way To Learn Python\n",
      "No.of Upper case characters: 1\n",
      "No.of Lower case characters: 1\n",
      "Original String : The Smarter Way To Learn Python\n",
      "No.of Upper case characters: 1\n",
      "No.of Lower case characters: 2\n",
      "Original String : The Smarter Way To Learn Python\n",
      "No.of Upper case characters: 1\n",
      "No.of Lower case characters: 2\n",
      "Original String : The Smarter Way To Learn Python\n",
      "No.of Upper case characters: 2\n",
      "No.of Lower case characters: 2\n",
      "Original String : The Smarter Way To Learn Python\n",
      "No.of Upper case characters: 2\n",
      "No.of Lower case characters: 3\n",
      "Original String : The Smarter Way To Learn Python\n",
      "No.of Upper case characters: 2\n",
      "No.of Lower case characters: 4\n",
      "Original String : The Smarter Way To Learn Python\n",
      "No.of Upper case characters: 2\n",
      "No.of Lower case characters: 5\n",
      "Original String : The Smarter Way To Learn Python\n",
      "No.of Upper case characters: 2\n",
      "No.of Lower case characters: 6\n",
      "Original String : The Smarter Way To Learn Python\n",
      "No.of Upper case characters: 2\n",
      "No.of Lower case characters: 7\n",
      "Original String : The Smarter Way To Learn Python\n",
      "No.of Upper case characters: 2\n",
      "No.of Lower case characters: 8\n",
      "Original String : The Smarter Way To Learn Python\n",
      "No.of Upper case characters: 2\n",
      "No.of Lower case characters: 8\n",
      "Original String : The Smarter Way To Learn Python\n",
      "No.of Upper case characters: 3\n",
      "No.of Lower case characters: 8\n",
      "Original String : The Smarter Way To Learn Python\n",
      "No.of Upper case characters: 3\n",
      "No.of Lower case characters: 9\n",
      "Original String : The Smarter Way To Learn Python\n",
      "No.of Upper case characters: 3\n",
      "No.of Lower case characters: 10\n",
      "Original String : The Smarter Way To Learn Python\n",
      "No.of Upper case characters: 3\n",
      "No.of Lower case characters: 10\n",
      "Original String : The Smarter Way To Learn Python\n",
      "No.of Upper case characters: 4\n",
      "No.of Lower case characters: 10\n",
      "Original String : The Smarter Way To Learn Python\n",
      "No.of Upper case characters: 4\n",
      "No.of Lower case characters: 11\n",
      "Original String : The Smarter Way To Learn Python\n",
      "No.of Upper case characters: 4\n",
      "No.of Lower case characters: 11\n",
      "Original String : The Smarter Way To Learn Python\n",
      "No.of Upper case characters: 5\n",
      "No.of Lower case characters: 11\n",
      "Original String : The Smarter Way To Learn Python\n",
      "No.of Upper case characters: 5\n",
      "No.of Lower case characters: 12\n",
      "Original String : The Smarter Way To Learn Python\n",
      "No.of Upper case characters: 5\n",
      "No.of Lower case characters: 13\n",
      "Original String : The Smarter Way To Learn Python\n",
      "No.of Upper case characters: 5\n",
      "No.of Lower case characters: 14\n",
      "Original String : The Smarter Way To Learn Python\n",
      "No.of Upper case characters: 5\n",
      "No.of Lower case characters: 15\n",
      "Original String : The Smarter Way To Learn Python\n",
      "No.of Upper case characters: 5\n",
      "No.of Lower case characters: 15\n",
      "Original String : The Smarter Way To Learn Python\n",
      "No.of Upper case characters: 6\n",
      "No.of Lower case characters: 15\n",
      "Original String : The Smarter Way To Learn Python\n",
      "No.of Upper case characters: 6\n",
      "No.of Lower case characters: 16\n",
      "Original String : The Smarter Way To Learn Python\n",
      "No.of Upper case characters: 6\n",
      "No.of Lower case characters: 17\n",
      "Original String : The Smarter Way To Learn Python\n",
      "No.of Upper case characters: 6\n",
      "No.of Lower case characters: 18\n",
      "Original String : The Smarter Way To Learn Python\n",
      "No.of Upper case characters: 6\n",
      "No.of Lower case characters: 19\n",
      "Original String : The Smarter Way To Learn Python\n",
      "No.of Upper case characters: 6\n",
      "No.of Lower case characters: 20\n"
     ]
    }
   ],
   "source": [
    "def string_test(s):\n",
    "    d={\"UPPER_CASE\":0, \"LOWER_CASE\":0}\n",
    "    for c in s:\n",
    "        if c.isupper():\n",
    "            d[\"UPPER_CASE\"]+=1\n",
    "        elif c.islower():\n",
    "            d[\"LOWER_CASE\"]+=1\n",
    "        else:\n",
    "            pass\n",
    "        print(\"Original String :\" , s)\n",
    "        print(\"No.of Upper case characters:\",d[\"UPPER_CASE\"]) \n",
    "        print(\"No.of Lower case characters:\",d[\"LOWER_CASE\"])\n",
    "        \n",
    "string_test(\"The Smarter Way To Learn Python\")      \n"
   ]
  },
  {
   "cell_type": "code",
   "execution_count": 7,
   "metadata": {},
   "outputs": [
    {
     "name": "stdout",
     "output_type": "stream",
     "text": [
      "10466"
     ]
    }
   ],
   "source": [
    "list1 = [10 , 21, 4, 45, 66, 93]\n",
    "for num in list1:\n",
    "    if num % 2 == 0:\n",
    "        print(num, end = \"\")"
   ]
  },
  {
   "cell_type": "code",
   "execution_count": 10,
   "metadata": {},
   "outputs": [
    {
     "name": "stdout",
     "output_type": "stream",
     "text": [
      "True\n"
     ]
    }
   ],
   "source": [
    " def isPalindrome(string):\n",
    "        left_pos = 0\n",
    "        right_pos = len(string) - 1\n",
    "        \n",
    "        while right_pos >= left_pos:\n",
    "            if not string[left_pos] == string[right_pos]:\n",
    "                return false\n",
    "            left_pos += 1\n",
    "            right_pos -= 1\n",
    "        return True\n",
    "print(isPalindrome('aza'))   "
   ]
  },
  {
   "cell_type": "code",
   "execution_count": 11,
   "metadata": {},
   "outputs": [
    {
     "name": "stdout",
     "output_type": "stream",
     "text": [
      "False\n"
     ]
    }
   ],
   "source": [
    "def test_prime(n):\n",
    "    if (n==1):\n",
    "        return False\n",
    "    elif (n==2):\n",
    "        return True;\n",
    "    else:\n",
    "        for x in range(2,n):\n",
    "            if(n % x==0):\n",
    "                return False\n",
    "        return True             \n",
    "print(test_prime(9))"
   ]
  },
  {
   "cell_type": "code",
   "execution_count": 3,
   "metadata": {},
   "outputs": [
    {
     "name": "stdout",
     "output_type": "stream",
     "text": [
      "Rice\n",
      "CornFlour\n",
      "Wheat\n"
     ]
    }
   ],
   "source": [
    "def groceryList(*gnames):\n",
    "   \"\"\"This function displays\n",
    "   the grocery names\"\"\"\n",
    "\n",
    "   \n",
    "   for groceryList in gnames:\n",
    "       print(groceryList)\n",
    "\n",
    "groceryList(\"Rice\",\"CornFlour\",\"Wheat\")"
   ]
  },
  {
   "cell_type": "code",
   "execution_count": null,
   "metadata": {},
   "outputs": [],
   "source": []
  }
 ],
 "metadata": {
  "kernelspec": {
   "display_name": "Python 3",
   "language": "python",
   "name": "python3"
  },
  "language_info": {
   "codemirror_mode": {
    "name": "ipython",
    "version": 3
   },
   "file_extension": ".py",
   "mimetype": "text/x-python",
   "name": "python",
   "nbconvert_exporter": "python",
   "pygments_lexer": "ipython3",
   "version": "3.7.4"
  }
 },
 "nbformat": 4,
 "nbformat_minor": 2
}
